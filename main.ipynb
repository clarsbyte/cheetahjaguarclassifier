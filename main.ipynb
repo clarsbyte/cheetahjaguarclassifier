{
 "cells": [
  {
   "cell_type": "code",
   "execution_count": null,
   "id": "e2d47694",
   "metadata": {},
   "outputs": [],
   "source": [
    "import tensorflow as tf\n",
    "import os\n",
    "from matplotlib import pyplot as plt\n",
    "import numpy as np\n",
    "import cv2"
   ]
  },
  {
   "cell_type": "markdown",
   "id": "e352bb02",
   "metadata": {},
   "source": [
    "## No Transfer Learning"
   ]
  },
  {
   "cell_type": "markdown",
   "id": "9343e16c",
   "metadata": {},
   "source": [
    "### Processing Data into Batches"
   ]
  },
  {
   "cell_type": "code",
   "execution_count": null,
   "id": "725745ee",
   "metadata": {},
   "outputs": [],
   "source": [
    "data = tf.keras.preprocessing.image_dataset_from_directory('data', batch_size=32)"
   ]
  },
  {
   "cell_type": "code",
   "execution_count": null,
   "id": "8140009b",
   "metadata": {},
   "outputs": [],
   "source": [
    "data = data.map(lambda x,y: (x/255,y))\n",
    "scaled_iterator = data.as_numpy_iterator()\n",
    "batch = scaled_iterator.next()\n",
    "batch"
   ]
  },
  {
   "cell_type": "markdown",
   "id": "b63353b0",
   "metadata": {},
   "source": [
    "### Plot Pictures"
   ]
  },
  {
   "cell_type": "code",
   "execution_count": null,
   "id": "8a3f61ac",
   "metadata": {},
   "outputs": [],
   "source": [
    "fig, ax = plt.subplots(ncols=4, figsize=(20,20))\n",
    "for idx,img in enumerate(batch[0][:4]):\n",
    "    ax[idx].imshow(img)\n",
    "    ax[idx].title.set_text(batch[1][idx])"
   ]
  },
  {
   "cell_type": "markdown",
   "id": "a51009e6",
   "metadata": {},
   "source": [
    "#### Separating Data"
   ]
  },
  {
   "cell_type": "code",
   "execution_count": null,
   "id": "5f481c0f",
   "metadata": {},
   "outputs": [],
   "source": [
    "train_size = int(len(data)*0.6)\n",
    "test_size = int(len(data)*0.2)\n",
    "val_size = int(len(data)*0.2)"
   ]
  },
  {
   "cell_type": "code",
   "execution_count": null,
   "id": "cc2349d5",
   "metadata": {},
   "outputs": [],
   "source": [
    "train = data.take(train_size)\n",
    "test = data.take(test_size)\n",
    "val = data.take(val_size)"
   ]
  },
  {
   "cell_type": "markdown",
   "id": "ce2555b0",
   "metadata": {},
   "source": [
    "### Create Model"
   ]
  },
  {
   "cell_type": "code",
   "execution_count": null,
   "id": "3f9cfc6c",
   "metadata": {},
   "outputs": [],
   "source": [
    "from tensorflow.keras.models import Sequential\n",
    "from tensorflow.keras.layers import Conv2D, MaxPooling2D, Dense, Flatten"
   ]
  },
  {
   "cell_type": "code",
   "execution_count": null,
   "id": "0acedc7d",
   "metadata": {},
   "outputs": [],
   "source": [
    "model = Sequential()"
   ]
  },
  {
   "cell_type": "code",
   "execution_count": null,
   "id": "ba5b446c",
   "metadata": {},
   "outputs": [],
   "source": [
    "model.add(Conv2D(16,(3,3),activation='relu',input_shape=(256,256,3))) \n",
    "model.add(MaxPooling2D((2,2)))\n",
    "\n",
    "model.add(Conv2D(32,(3,3),activation='relu')) \n",
    "model.add(MaxPooling2D((2,2)))\n",
    "\n",
    "model.add(Conv2D(64,(3,3),activation='relu'))\n",
    "model.add(MaxPooling2D((2,2)))\n",
    "\n",
    "model.add(Flatten())\n",
    "\n",
    "model.add(Dense(256,activation='relu'))\n",
    "model.add(Dense(1,activation='sigmoid'))"
   ]
  },
  {
   "cell_type": "code",
   "execution_count": null,
   "id": "327e67ef",
   "metadata": {},
   "outputs": [],
   "source": [
    "model.summary()"
   ]
  },
  {
   "cell_type": "code",
   "execution_count": null,
   "id": "3c1dfe4e",
   "metadata": {},
   "outputs": [],
   "source": [
    "model.compile('adam', loss=tf.losses.BinaryCrossentropy(), metrics=['accuracy'])"
   ]
  },
  {
   "cell_type": "markdown",
   "id": "e6b4b6a2",
   "metadata": {},
   "source": [
    "### Train Model"
   ]
  },
  {
   "cell_type": "code",
   "execution_count": null,
   "id": "4f375dcf",
   "metadata": {},
   "outputs": [],
   "source": [
    "tensor_cb = tf.keras.callbacks.TensorBoard(log_dir='logs')\n",
    "hist = model.fit(train, epochs=50, validation_data=val, callbacks=[tensor_cb])"
   ]
  },
  {
   "cell_type": "code",
   "execution_count": null,
   "id": "314d09b5",
   "metadata": {},
   "outputs": [],
   "source": [
    "import cv2\n",
    "import numpy as np\n",
    "test_img1 = cv2.imread('jaguar.jpg')\n",
    "result = int(model.predict(np.expand_dims(test_img1/255,0)) > 0.5)\n",
    "result"
   ]
  },
  {
   "cell_type": "code",
   "execution_count": null,
   "id": "e30fb243",
   "metadata": {},
   "outputs": [],
   "source": [
    "test_img1 = cv2.imread('chee.jpg')\n",
    "result = int(model.predict(np.expand_dims(test_img1/255,0)) > 0.5)\n",
    "result"
   ]
  },
  {
   "cell_type": "code",
   "execution_count": null,
   "id": "5631daeb",
   "metadata": {},
   "outputs": [],
   "source": [
    "test_img1 = cv2.imread('chee.jpg')\n",
    "result = int(model.predict(np.expand_dims(test_img1/255,0)) > 0.5)\n",
    "result"
   ]
  },
  {
   "cell_type": "code",
   "execution_count": null,
   "id": "e03984ab",
   "metadata": {},
   "outputs": [],
   "source": [
    "model.evaluate(test)"
   ]
  },
  {
   "cell_type": "markdown",
   "id": "42a85afe",
   "metadata": {},
   "source": [
    "## Transfer Learning"
   ]
  },
  {
   "cell_type": "code",
   "execution_count": null,
   "id": "12f463c0",
   "metadata": {},
   "outputs": [],
   "source": [
    "import tensorflow as tf\n",
    "from tensorflow.keras.applications import MobileNetV2\n",
    "from tensorflow.keras.models import Sequential\n",
    "from tensorflow.keras.layers import Dense, Dropout, GlobalAveragePooling2D, BatchNormalization\n",
    "from tensorflow.keras.preprocessing.image import ImageDataGenerator\n",
    "from tensorflow.keras.callbacks import EarlyStopping, ModelCheckpoint\n",
    "from tensorflow.keras.optimizers import Adam\n",
    "import matplotlib.pyplot as plt\n",
    "import os"
   ]
  },
  {
   "cell_type": "code",
   "execution_count": null,
   "id": "d718733e",
   "metadata": {},
   "outputs": [],
   "source": [
    "base_model = MobileNetV2(\n",
    "    input_shape=(256, 256, 3),\n",
    "    include_top=False,  \n",
    "    weights='imagenet'\n",
    ")\n",
    "\n",
    "base_model.trainable = False  \n"
   ]
  },
  {
   "cell_type": "code",
   "execution_count": null,
   "id": "0c2c17d5",
   "metadata": {},
   "outputs": [],
   "source": [
    "model = Sequential()"
   ]
  },
  {
   "cell_type": "code",
   "execution_count": null,
   "id": "ad6b5d98",
   "metadata": {},
   "outputs": [],
   "source": [
    "model.add(base_model)\n",
    "model.add(GlobalAveragePooling2D())\n",
    "\n",
    "model.add(Dense(128, activation='relu'))\n",
    "model.add(BatchNormalization())\n",
    "\n",
    "model.add(Dropout(0.5))\n",
    "model.add(Dense(1, activation='sigmoid'))"
   ]
  },
  {
   "cell_type": "code",
   "execution_count": null,
   "id": "3c63231b",
   "metadata": {},
   "outputs": [],
   "source": [
    "model.compile('adam', loss=tf.losses.BinaryCrossentropy(), metrics=['accuracy'])"
   ]
  },
  {
   "cell_type": "code",
   "execution_count": null,
   "id": "6e5af609",
   "metadata": {},
   "outputs": [],
   "source": [
    "tensor_cb = tf.keras.callbacks.TensorBoard(log_dir='logs')\n",
    "hist = model.fit(train, epochs=35, validation_data=val, callbacks=[tensor_cb])"
   ]
  },
  {
   "cell_type": "code",
   "execution_count": null,
   "id": "e4aa8c69",
   "metadata": {},
   "outputs": [],
   "source": [
    "model.evaluate(test)"
   ]
  },
  {
   "cell_type": "code",
   "execution_count": null,
   "id": "bd229854",
   "metadata": {},
   "outputs": [],
   "source": [
    "model.summary()"
   ]
  },
  {
   "cell_type": "code",
   "execution_count": null,
   "id": "513e57f9",
   "metadata": {},
   "outputs": [],
   "source": [
    "model.save('cheetah_jaguar_transfer_model.keras')"
   ]
  },
  {
   "cell_type": "code",
   "execution_count": null,
   "id": "cae631ed",
   "metadata": {},
   "outputs": [],
   "source": []
  },
  {
   "cell_type": "code",
   "execution_count": null,
   "id": "fc517261",
   "metadata": {},
   "outputs": [],
   "source": []
  }
 ],
 "metadata": {
  "kernelspec": {
   "display_name": "env",
   "language": "python",
   "name": "python3"
  },
  "language_info": {
   "codemirror_mode": {
    "name": "ipython",
    "version": 3
   },
   "file_extension": ".py",
   "mimetype": "text/x-python",
   "name": "python",
   "nbconvert_exporter": "python",
   "pygments_lexer": "ipython3",
   "version": "3.12.1"
  }
 },
 "nbformat": 4,
 "nbformat_minor": 5
}
